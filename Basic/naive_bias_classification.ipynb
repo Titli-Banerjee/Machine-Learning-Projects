{
 "cells": [
  {
   "cell_type": "code",
   "execution_count": 1,
   "metadata": {},
   "outputs": [],
   "source": [
    "import numpy as np\n",
    "import pandas as pd"
   ]
  },
  {
   "cell_type": "code",
   "execution_count": 2,
   "metadata": {
    "scrolled": true
   },
   "outputs": [
    {
     "name": "stdout",
     "output_type": "stream",
     "text": [
      "     outlook  temp humidity    wind play\n",
      "0      Sunny   Hot     High    Weak   No\n",
      "1      Sunny   Hot     High  Strong   No\n",
      "2   Overcast   Hot     High    Weak  Yes\n",
      "3       Rain  Mild     High    Weak  Yes\n",
      "4       Rain  Cool   Normal    Weak  Yes\n",
      "5       Rain  Cool   Normal  Strong   No\n",
      "6   Overcast  Cool   Normal  Strong  Yes\n",
      "7      Sunny  Mild     High    Weak   No\n",
      "8      Sunny  Cool   Normal    Weak  Yes\n",
      "9       Rain  Mild   Normal    Weak  Yes\n",
      "10     Sunny  Mild   Normal  Strong  Yes\n",
      "11  Overcast  Mild     High  Strong  Yes\n",
      "12  Overcast   Hot   Normal    Weak  Yes\n",
      "13      Rain  Mild     High  Strong   No\n"
     ]
    }
   ],
   "source": [
    "data = pd.read_csv('play_tennis.csv')\n"
   ]
  },
  {
   "cell_type": "code",
   "execution_count": null,
   "metadata": {},
   "outputs": [],
   "source": [
    "# question by sir \n",
    "# outlook=sunny, Temp=hot, Humidity=High, wind=weak\n",
    "# Play or no play?"
   ]
  },
  {
   "cell_type": "code",
   "execution_count": 2,
   "metadata": {
    "scrolled": true
   },
   "outputs": [],
   "source": [
    "#P(Yes|sunny,hot,high,weak) = P(sunny|yes)*P(hot|yes)*P(high|yes)*P(weak|yes)*P(Yes)\n",
    "#P(No|sunny,hot,high,weak) = P(sunny|no)*P(hot|no)*P(high|no)*P(weak|no)*P(No)\n"
   ]
  },
  {
   "cell_type": "code",
   "execution_count": 1,
   "metadata": {
    "scrolled": true
   },
   "outputs": [],
   "source": [
    "#P(YES)\n",
    "#P(NO)"
   ]
  },
  {
   "cell_type": "code",
   "execution_count": 5,
   "metadata": {
    "scrolled": false
   },
   "outputs": [
    {
     "name": "stdout",
     "output_type": "stream",
     "text": [
      "Yes    9\n",
      "No     5\n",
      "Name: play, dtype: int64\n"
     ]
    }
   ],
   "source": [
    "print(data['play'].value_counts())"
   ]
  },
  {
   "cell_type": "code",
   "execution_count": 6,
   "metadata": {
    "scrolled": true
   },
   "outputs": [
    {
     "name": "stdout",
     "output_type": "stream",
     "text": [
      "0.6428571428571429\n",
      "0.35714285714285715\n"
     ]
    }
   ],
   "source": [
    "PYes=9/14\n",
    "PNo=5/14\n",
    "print(PYes)\n",
    "print(PNo)\n"
   ]
  },
  {
   "cell_type": "code",
   "execution_count": 7,
   "metadata": {
    "scrolled": true
   },
   "outputs": [
    {
     "name": "stdout",
     "output_type": "stream",
     "text": [
      "play      No  Yes\n",
      "outlook          \n",
      "Overcast   0    4\n",
      "Rain       2    3\n",
      "Sunny      3    2\n"
     ]
    }
   ],
   "source": [
    "print(pd.crosstab(data['outlook'], data['play'])) # for outlook feature\n",
    "p_over_no=0\n",
    "p_rain_no=2/5\n",
    "p_sunny_no=3/5\n",
    "\n",
    "p_over_yes=4/9\n",
    "p_rain_yes=3/9\n",
    "p_sunny_yes=2/9"
   ]
  },
  {
   "cell_type": "code",
   "execution_count": 10,
   "metadata": {},
   "outputs": [
    {
     "name": "stdout",
     "output_type": "stream",
     "text": [
      "play  No  Yes\n",
      "temp         \n",
      "Cool   1    3\n",
      "Hot    2    2\n",
      "Mild   2    4\n"
     ]
    }
   ],
   "source": [
    "print(pd.crosstab(data['temp'], data['play'])) # for temp\n",
    "p_cool_no=1/5\n",
    "p_hot_no=2/5\n",
    "p_mild_no=2/5\n",
    "\n",
    "p_cool_yes=3/9\n",
    "p_hot_yes=2/9\n",
    "p_mild_yes=4/9"
   ]
  },
  {
   "cell_type": "code",
   "execution_count": 11,
   "metadata": {
    "scrolled": true
   },
   "outputs": [
    {
     "name": "stdout",
     "output_type": "stream",
     "text": [
      "play      No  Yes\n",
      "humidity         \n",
      "High       4    3\n",
      "Normal     1    6\n"
     ]
    }
   ],
   "source": [
    "print(pd.crosstab(data['humidity'], data['play'])) # for humidity\n",
    "p_high_no=4/5\n",
    "p_normal=1/5\n",
    "\n",
    "p_high_yes=3/9\n",
    "p_normal_yes=6/9\n",
    "\n"
   ]
  },
  {
   "cell_type": "code",
   "execution_count": 12,
   "metadata": {
    "scrolled": true
   },
   "outputs": [
    {
     "name": "stdout",
     "output_type": "stream",
     "text": [
      "play    No  Yes\n",
      "wind           \n",
      "Strong   3    3\n",
      "Weak     2    6\n"
     ]
    }
   ],
   "source": [
    "print(pd.crosstab(data['wind'], data['play'])) # for wind feature\n",
    "\n",
    "\n",
    "p_strong_no=3/5\n",
    "p_weak_no=2/5\n",
    "\n",
    "p_strong_yes=3/9\n",
    "p_weak_yes=6/9"
   ]
  },
  {
   "cell_type": "code",
   "execution_count": 13,
   "metadata": {
    "scrolled": true
   },
   "outputs": [
    {
     "name": "stdout",
     "output_type": "stream",
     "text": [
      "0.007054673721340388\n",
      "0.02742857142857143\n"
     ]
    }
   ],
   "source": [
    "P_Yes=PYes*p_sunny_yes*p_hot_yes*p_high_yes*p_weak_yes\n",
    "print(P_Yes)\n",
    "\n",
    "\n",
    "P_No=PNo*p_sunny_no*p_hot_no*p_high_no*p_weak_no\n",
    "print(P_No)\n"
   ]
  },
  {
   "cell_type": "code",
   "execution_count": 14,
   "metadata": {},
   "outputs": [
    {
     "name": "stdout",
     "output_type": "stream",
     "text": [
      "0.02742857142857143\n"
     ]
    }
   ],
   "source": [
    "print(max(P_Yes,P_No))"
   ]
  }
 ],
 "metadata": {
  "kernelspec": {
   "display_name": "Python 3",
   "language": "python",
   "name": "python3"
  },
  "language_info": {
   "codemirror_mode": {
    "name": "ipython",
    "version": 3
   },
   "file_extension": ".py",
   "mimetype": "text/x-python",
   "name": "python",
   "nbconvert_exporter": "python",
   "pygments_lexer": "ipython3",
   "version": "3.8.3"
  }
 },
 "nbformat": 4,
 "nbformat_minor": 4
}
